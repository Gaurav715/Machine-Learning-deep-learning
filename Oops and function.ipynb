{
 "cells": [
  {
   "cell_type": "markdown",
   "metadata": {},
   "source": [
    "# Oops and function concept"
   ]
  },
  {
   "cell_type": "markdown",
   "metadata": {},
   "source": [
    "Question 1. Write a Python Program(with class concepts) to find the area of the triangle using the below\n",
    "formula.\n",
    "area = (s*(s-a)*(s-b)*(s-c)) ** 0.5\n",
    "Function to take the length of the sides of triangle from user should be defined in the parent\n",
    "class and function to calculate the area should be defined in subclass.\n"
   ]
  },
  {
   "cell_type": "code",
   "execution_count": 31,
   "metadata": {
    "ExecuteTime": {
     "end_time": "2021-06-25T15:19:29.474105Z",
     "start_time": "2021-06-25T15:19:29.461141Z"
    }
   },
   "outputs": [
    {
     "name": "stdout",
     "output_type": "stream",
     "text": [
      "area of Triangle : 290.4737509655563\n"
     ]
    }
   ],
   "source": [
    "class Sides:\n",
    "    def __init__(self,a, b, c):\n",
    "        self.a = a\n",
    "        self.b = b\n",
    "        self.c = c\n",
    "        \n",
    "class A(Sides):\n",
    "    def area(self):\n",
    "        s = (self.a + self.b + self.c)/2\n",
    "        return (s*(s-self.a)*(s-self.b)*(s-self.c)) ** 0.5\n",
    "\n",
    "t = A(20,30,40)\n",
    "\n",
    "print(\"area of Triangle : {}\".format(t.area()))"
   ]
  },
  {
   "cell_type": "markdown",
   "metadata": {},
   "source": [
    "Question 2. Write a function filter_long_words() that takes a list of words and an integer n and returns\n",
    "the list of words that are longer than n."
   ]
  },
  {
   "cell_type": "code",
   "execution_count": 29,
   "metadata": {
    "ExecuteTime": {
     "end_time": "2021-06-25T21:59:47.998990Z",
     "start_time": "2021-06-25T21:59:47.991009Z"
    }
   },
   "outputs": [
    {
     "name": "stdout",
     "output_type": "stream",
     "text": [
      "Gaurav\n",
      "name\n"
     ]
    }
   ],
   "source": [
    "l = ['Gaurav','is','my','name','23','34']\n",
    "def filter_long_words():\n",
    "    for i in l:\n",
    "        if len(i)>3:\n",
    "            print(i)\n",
    "        \n",
    "filter_long_words()"
   ]
  },
  {
   "cell_type": "markdown",
   "metadata": {
    "ExecuteTime": {
     "end_time": "2021-06-25T21:59:30.339440Z",
     "start_time": "2021-06-25T21:59:30.334456Z"
    }
   },
   "source": [
    "question 3. Write a Python program using function concept that maps list of words into a list of integers\n",
    "representing the lengths of the corresponding words.\n",
    "Hint: If a list [ ab,cde,erty] is passed on to the python function output should come as [2,3,4]\n",
    "Here 2,3 and 4 are the lengths of the words in the list.\n",
    "\n",
    "        \n",
    "    \n",
    " "
   ]
  },
  {
   "cell_type": "code",
   "execution_count": 35,
   "metadata": {
    "ExecuteTime": {
     "end_time": "2021-06-25T22:13:10.791579Z",
     "start_time": "2021-06-25T22:13:10.784601Z"
    }
   },
   "outputs": [
    {
     "name": "stdout",
     "output_type": "stream",
     "text": [
      "2\n",
      "3\n",
      "4\n",
      "5\n"
     ]
    }
   ],
   "source": [
    "t = ['ab','cde','erty','abcgd']\n",
    "def map_test():\n",
    "    for i in t:\n",
    "        print(len(i))\n",
    "map_test()"
   ]
  },
  {
   "cell_type": "markdown",
   "metadata": {
    "ExecuteTime": {
     "end_time": "2021-06-25T15:45:12.645190Z",
     "start_time": "2021-06-25T15:45:12.637211Z"
    }
   },
   "source": [
    "Question 4. Write a Python function which takes a character (i.e. a string of length 1) and returns True if\n",
    "it is a vowel, False otherwise."
   ]
  },
  {
   "cell_type": "code",
   "execution_count": 50,
   "metadata": {
    "ExecuteTime": {
     "end_time": "2021-06-25T22:20:10.203601Z",
     "start_time": "2021-06-25T22:20:10.198607Z"
    }
   },
   "outputs": [],
   "source": [
    "s = ['w']\n",
    "def check():\n",
    "        if(s[0]=='a' or s[0] == 'e' or s[0]=='i' or s[0] == 'o' or s[0] == 'u' ):\n",
    "            return True\n",
    "        else :\n",
    "            return False"
   ]
  },
  {
   "cell_type": "code",
   "execution_count": 51,
   "metadata": {
    "ExecuteTime": {
     "end_time": "2021-06-25T22:20:10.833610Z",
     "start_time": "2021-06-25T22:20:10.827627Z"
    }
   },
   "outputs": [
    {
     "data": {
      "text/plain": [
       "True"
      ]
     },
     "execution_count": 51,
     "metadata": {},
     "output_type": "execute_result"
    }
   ],
   "source": [
    "check()"
   ]
  },
  {
   "cell_type": "code",
   "execution_count": null,
   "metadata": {},
   "outputs": [],
   "source": []
  }
 ],
 "metadata": {
  "kernelspec": {
   "display_name": "Python 3",
   "language": "python",
   "name": "python3"
  },
  "language_info": {
   "codemirror_mode": {
    "name": "ipython",
    "version": 3
   },
   "file_extension": ".py",
   "mimetype": "text/x-python",
   "name": "python",
   "nbconvert_exporter": "python",
   "pygments_lexer": "ipython3",
   "version": "3.8.3"
  }
 },
 "nbformat": 4,
 "nbformat_minor": 4
}

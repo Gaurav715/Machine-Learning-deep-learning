{
 "cells": [
  {
   "cell_type": "markdown",
   "metadata": {
    "ExecuteTime": {
     "end_time": "2021-06-24T17:40:44.188198Z",
     "start_time": "2021-06-24T17:40:40.327895Z"
    }
   },
   "source": [
    "#  Practise Python\n"
   ]
  },
  {
   "cell_type": "markdown",
   "metadata": {},
   "source": [
    "Question 1 . Write a Python Program to reverse a word after accepting the input from user"
   ]
  },
  {
   "cell_type": "code",
   "execution_count": 13,
   "metadata": {
    "ExecuteTime": {
     "end_time": "2021-06-24T17:43:42.359713Z",
     "start_time": "2021-06-24T17:41:19.912805Z"
    }
   },
   "outputs": [
    {
     "name": "stdout",
     "output_type": "stream",
     "text": [
      "Enter the Name gaurav\n",
      "varuag\n"
     ]
    }
   ],
   "source": [
    "a = input(\"Enter the Name \")\n",
    "string_length = len(a)\n",
    "slicedString=a[string_length::-1] \n",
    "print(slicedString) "
   ]
  },
  {
   "cell_type": "markdown",
   "metadata": {},
   "source": [
    "Question 2. Create the below pattern using nested for loop in python"
   ]
  },
  {
   "cell_type": "code",
   "execution_count": 88,
   "metadata": {
    "ExecuteTime": {
     "end_time": "2021-06-24T18:18:08.169109Z",
     "start_time": "2021-06-24T18:18:08.153199Z"
    }
   },
   "outputs": [
    {
     "name": "stdout",
     "output_type": "stream",
     "text": [
      " *  \r\n",
      " *   *  \r\n",
      " *   *   *  \r\n",
      " *   *   *   *  \r\n",
      " *   *   *   *   *  \r\n",
      " *   *   *   *  \r\n",
      " *   *   *  \r\n",
      " *   *  \r\n",
      " *  \r\n",
      "\r\n"
     ]
    }
   ],
   "source": [
    "for i in range(0,5):\n",
    "    for j in range(0,i+1):\n",
    "        print(\" * \" ,end = \" \")\n",
    "    print(\"\\r\")\n",
    "for i in range(0,5):\n",
    "    for j in range(1,5-i):\n",
    "        print(\" * \" ,end = \" \")\n",
    "    print(\"\\r\")"
   ]
  },
  {
   "cell_type": "markdown",
   "metadata": {},
   "source": [
    "Created by Gaurav Kumar"
   ]
  },
  {
   "cell_type": "code",
   "execution_count": null,
   "metadata": {},
   "outputs": [],
   "source": []
  }
 ],
 "metadata": {
  "kernelspec": {
   "display_name": "Python 3",
   "language": "python",
   "name": "python3"
  },
  "language_info": {
   "codemirror_mode": {
    "name": "ipython",
    "version": 3
   },
   "file_extension": ".py",
   "mimetype": "text/x-python",
   "name": "python",
   "nbconvert_exporter": "python",
   "pygments_lexer": "ipython3",
   "version": "3.8.3"
  }
 },
 "nbformat": 4,
 "nbformat_minor": 4
}
